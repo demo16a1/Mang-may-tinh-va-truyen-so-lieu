{
 "cells": [
  {
   "cell_type": "code",
   "execution_count": 1,
   "id": "1a7980ec",
   "metadata": {},
   "outputs": [
    {
     "name": "stdout",
     "output_type": "stream",
     "text": [
      "Mã băm (hash) của khối: e60f21790925a680f4b3219513eb10015295075aa58fdadfa6e0572eacc87c28\n"
     ]
    }
   ],
   "source": [
    "import hashlib  # Thư viện tích hợp sẵn trong Python\n",
    "                 # để sử dụng các thuật toán băm như SHA-256\n",
    "\n",
    "class Block:\n",
    "    def __init__(self, previous_hash, data):\n",
    "        # Lưu mã băm của khối trước (liên kết chuỗi)\n",
    "        self.previous_hash = previous_hash\n",
    "        # Dữ liệu giao dịch hoặc thông tin cần ghi vào khối\n",
    "        self.data = data\n",
    "        # Tự động tính mã băm khi đối tượng được tạo\n",
    "        self.hash = self.calculate_hash()\n",
    "\n",
    "    def calculate_hash(self):\n",
    "        # Gộp thông tin khối hiện tại và khối trước\n",
    "        block_data = self.previous_hash + self.data\n",
    "        # Tính mã băm SHA-256 (đưa ra là chuỗi 64 ký tự hexa)\n",
    "        return hashlib.sha256(block_data.encode()).hexdigest()\n",
    "\n",
    "# Tạo một khối mới với dữ liệu giả định\n",
    "block = Block(\"0000a7c8...\", \"Transaction Data Example\")\n",
    "\n",
    "# In ra mã băm của khối\n",
    "print(\"Mã băm (hash) của khối:\", block.hash)"
   ]
  },
  {
   "cell_type": "code",
   "execution_count": 1,
   "id": "e8620290",
   "metadata": {},
   "outputs": [
    {
     "name": "stdout",
     "output_type": "stream",
     "text": [
      "Mã băm hash giao dịch 1  d3de6458bdfd3ccb2cc2b8a3e44184189e1a9bda30f2a7144e96d9812b374ab6\n",
      "Mã băm hash giao dịch 2  b4b579a360e08296785fed2f327f0be2ed69a3da1531ac452c50e2ce5146ec7a\n",
      "Mekle Root 144d94f97dfbbc946f4d901f4257be23228e46ce5ad12e1b9bfdbe392df6b0c0\n"
     ]
    }
   ],
   "source": [
    "# kiểm tra tính toàn vẹn\n",
    "import hashlib\n",
    "def calculate_hash(data):\n",
    "    return hashlib.sha256(data.encode()).hexdigest()\n",
    "\n",
    "data1=\"giao dịch 1\"\n",
    "data2=\"giao dịch 2\"\n",
    "\n",
    "\n",
    "hash1= calculate_hash(data1)\n",
    "hash2= calculate_hash(data2)\n",
    "\n",
    "parent_hash= calculate_hash(data1 +data2)\n",
    "\n",
    "print(\"Mã băm hash giao dịch 1 \",hash1)\n",
    "print(\"Mã băm hash giao dịch 2 \",hash2)\n",
    "print(\"Mekle Root\",parent_hash)"
   ]
  }
 ],
 "metadata": {
  "kernelspec": {
   "display_name": "base",
   "language": "python",
   "name": "python3"
  },
  "language_info": {
   "codemirror_mode": {
    "name": "ipython",
    "version": 3
   },
   "file_extension": ".py",
   "mimetype": "text/x-python",
   "name": "python",
   "nbconvert_exporter": "python",
   "pygments_lexer": "ipython3",
   "version": "3.12.3"
  }
 },
 "nbformat": 4,
 "nbformat_minor": 5
}
