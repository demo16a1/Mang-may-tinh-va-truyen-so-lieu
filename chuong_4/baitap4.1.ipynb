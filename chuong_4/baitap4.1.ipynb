{
 "cells": [
  {
   "cell_type": "markdown",
   "id": "bc03f444",
   "metadata": {},
   "source": [
    "Bài 1. Viết chương trình Python để mô phỏng một chuỗi Blockchain gồm 3 khối. Mỗi khối chứa một thông điệp và mã băm(hash) của khối trước.\n",
    " Gợi ý:\n",
    " - Sửdụng hashlib.sha256() để tạo mã băm (hash).\n",
    " - Mỗikhối gồm: thông điệp, thời gian tạo, mã băm (hash) khối trước.\n",
    " - In ra chuỗi khối và thử thay đổi thông tin khối giữa → quan sát hậu quả"
   ]
  },
  {
   "cell_type": "code",
   "execution_count": 10,
   "id": "ee3f0b31",
   "metadata": {},
   "outputs": [
    {
     "name": "stdout",
     "output_type": "stream",
     "text": [
      "=== Chuỗi khối ban đầu ===\n",
      "Block 1\n",
      "Timestamp     : 2025-04-22 11:33:48.554264\n",
      "Message       : Khối đầu tiên\n",
      "Previous Hash : 0\n",
      "Hash          : 242d03739be4eddb29f2e6d66877a26a44e670b78fff1feaa5d9ba7c2053101a\n",
      "\n",
      "Block 2\n",
      "Timestamp     : 2025-04-22 11:33:48.554264\n",
      "Message       : Khối thứ hai\n",
      "Previous Hash : 242d03739be4eddb29f2e6d66877a26a44e670b78fff1feaa5d9ba7c2053101a\n",
      "Hash          : b79ab56d0ea46465a6be49bb087d3ae434f71d30d60b276b00675799a6b824ea\n",
      "\n",
      "Block 3\n",
      "Timestamp     : 2025-04-22 11:33:48.554264\n",
      "Message       : Khối thứ ba\n",
      "Previous Hash : b79ab56d0ea46465a6be49bb087d3ae434f71d30d60b276b00675799a6b824ea\n",
      "Hash          : 385b7393be05bd41a1f2ca53e2d233ea40896b05659c5f79d5e313085ec9dbca\n",
      "\n"
     ]
    }
   ],
   "source": [
    "import hashlib\n",
    "import datetime\n",
    "\n",
    "# Định nghĩa lớp khối (Block)\n",
    "class Block:\n",
    "    def __init__(self, message, previous_hash):\n",
    "        self.timestamp = datetime.datetime.now()\n",
    "        self.message = message\n",
    "        self.previous_hash = previous_hash\n",
    "        self.hash = self.compute_hash()\n",
    "\n",
    "    def compute_hash(self):\n",
    "        block_content = str(self.timestamp) + self.message + self.previous_hash\n",
    "        return hashlib.sha256(block_content.encode()).hexdigest()\n",
    "\n",
    "    def __str__(self):\n",
    "        return (f\"Timestamp     : {self.timestamp}\\n\"\n",
    "                f\"Message       : {self.message}\\n\"\n",
    "                f\"Previous Hash : {self.previous_hash}\\n\"\n",
    "                f\"Hash          : {self.hash}\\n\")\n",
    "\n",
    "# Tạo chuỗi khối\n",
    "blockchain = []\n",
    "\n",
    "# Khối khởi tạo (genesis block)\n",
    "genesis_block = Block(\"Khối đầu tiên\", \"0\")\n",
    "blockchain.append(genesis_block)\n",
    "\n",
    "# Khối thứ hai\n",
    "block2 = Block(\"Khối thứ hai\", blockchain[-1].hash)\n",
    "blockchain.append(block2)\n",
    "\n",
    "# Khối thứ ba\n",
    "block3 = Block(\"Khối thứ ba\", blockchain[-1].hash)\n",
    "blockchain.append(block3)\n",
    "\n",
    "# In ra toàn bộ chuỗi khối ban đầu\n",
    "print(\"=== Chuỗi khối ban đầu ===\")\n",
    "for i, block in enumerate(blockchain):\n",
    "    print(f\"Block {i + 1}\")\n",
    "    print(block)\n",
    "\n",
    "\n",
    "\n",
    "\n",
    "\n"
   ]
  },
  {
   "cell_type": "code",
   "execution_count": 9,
   "id": "cc0a3bf9",
   "metadata": {},
   "outputs": [
    {
     "name": "stdout",
     "output_type": "stream",
     "text": [
      "=== Thay đổi thông điệp khối thứ hai ===\n",
      "=== Chuỗi khối sau khi thay đổi ===\n",
      "Block 1\n",
      "Timestamp     : 2025-04-22 11:33:13.707929\n",
      "Message       : Khối đầu tiên\n",
      "Previous Hash : 0\n",
      "Hash          : 87b636e1f69e9151ed1f3c192566132bce9afcdcdf1a58635955fdb41901ec5f\n",
      "\n",
      "Block 2\n",
      "Timestamp     : 2025-04-22 11:33:13.707929\n",
      "Message       : Khối thứ hai - đã bị thay đổi\n",
      "Previous Hash : 87b636e1f69e9151ed1f3c192566132bce9afcdcdf1a58635955fdb41901ec5f\n",
      "Hash          : c7da9138a79e8c4e598437913c7e0c2a3df7b17bd1802b8265d21ff8b87a5aa4\n",
      "\n",
      "Block 3\n",
      "Timestamp     : 2025-04-22 11:33:13.707929\n",
      "Message       : Khối thứ ba\n",
      "Previous Hash : c7da9138a79e8c4e598437913c7e0c2a3df7b17bd1802b8265d21ff8b87a5aa4\n",
      "Hash          : c2dbaff78db1d568a5d7ee0c0a1e10ef8c769b8fbb14cdc1c6b5676c443ab0a5\n",
      "\n"
     ]
    }
   ],
   "source": [
    "# Thay đổi thông điệp của khối thứ hai\n",
    "print(\"=== Thay đổi thông điệp khối thứ hai ===\")\n",
    "blockchain[1].message = \"Khối thứ hai - đã bị thay đổi\"\n",
    "blockchain[1].hash = blockchain[1].compute_hash()\n",
    "\n",
    "# Cập nhật khối tiếp theo vì phụ thuộc vào hash của khối trước\n",
    "blockchain[2].previous_hash = blockchain[1].hash\n",
    "blockchain[2].hash = blockchain[2].compute_hash()\n",
    "\n",
    "# In lại chuỗi khối sau thay đổi\n",
    "print(\"=== Chuỗi khối sau khi thay đổi ===\")\n",
    "for i, block in enumerate(blockchain):\n",
    "    print(f\"Block {i + 1}\")\n",
    "    print(block)"
   ]
  }
 ],
 "metadata": {
  "kernelspec": {
   "display_name": "base",
   "language": "python",
   "name": "python3"
  },
  "language_info": {
   "codemirror_mode": {
    "name": "ipython",
    "version": 3
   },
   "file_extension": ".py",
   "mimetype": "text/x-python",
   "name": "python",
   "nbconvert_exporter": "python",
   "pygments_lexer": "ipython3",
   "version": "3.12.3"
  }
 },
 "nbformat": 4,
 "nbformat_minor": 5
}
