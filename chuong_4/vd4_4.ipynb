{
 "cells": [
  {
   "cell_type": "code",
   "execution_count": 69,
   "id": "cc1bf991",
   "metadata": {},
   "outputs": [],
   "source": [
    "# bước 1\n",
    "import web3\n",
    "import solcx\n",
    "import json"
   ]
  },
  {
   "cell_type": "code",
   "execution_count": 70,
   "id": "d08448c8",
   "metadata": {},
   "outputs": [
    {
     "name": "stdout",
     "output_type": "stream",
     "text": [
      "Web3 7.10.0\n"
     ]
    }
   ],
   "source": [
    "print(\"Web3\",web3.__version__)"
   ]
  },
  {
   "cell_type": "code",
   "execution_count": 71,
   "id": "9f38b7f2",
   "metadata": {},
   "outputs": [
    {
     "name": "stdout",
     "output_type": "stream",
     "text": [
      "phiên bản đã cài [<Version('0.8.0')>]\n"
     ]
    }
   ],
   "source": [
    "# bước 2\n",
    "from solcx import install_solc,compile_standard\n",
    "\n",
    "install_solc('0.8.0')\n",
    "print('phiên bản đã cài',solcx.get_installed_solc_versions())"
   ]
  },
  {
   "cell_type": "code",
   "execution_count": 72,
   "id": "addc5b66",
   "metadata": {},
   "outputs": [
    {
     "name": "stdout",
     "output_type": "stream",
     "text": [
      "// SPDX-License-Identifier: MIT\n",
      "pragma solidity ^0.8.0;\n",
      "\n",
      "contract MessageContract{\n",
      "    string public message;\n",
      "\n",
      "    constructor(string memory _message){\n",
      "        message = message;\n",
      "    }\n",
      "\n",
      "    function u\n"
     ]
    }
   ],
   "source": [
    "# bước 3\n",
    "with open (\"Message.sol\",\"r\") as file:\n",
    "    source_code=file.read()\n",
    "    \n",
    "# kiểm tra đã đọc đúng chưa\n",
    "print(source_code[:200])"
   ]
  },
  {
   "cell_type": "markdown",
   "id": "291255e5",
   "metadata": {},
   "source": [
    "# biên dịch hợp đồng comile_standerd"
   ]
  },
  {
   "cell_type": "code",
   "execution_count": 73,
   "id": "246fd7fd",
   "metadata": {},
   "outputs": [],
   "source": [
    "compiled_sol=compile_standard({\n",
    "    \"language\":\"Solidity\",\n",
    "    \"sources\":{\n",
    "        \"Message.sol\":{\n",
    "            \"content\":source_code\n",
    "        }\n",
    "    },\n",
    "    \"settings\":{\n",
    "        \"outputSelection\":{\n",
    "            \"*\":{\n",
    "                \"*\":[\"abi\",\"metadata\",\"evm.bytecode\",\"evm.sourceMap\"]\n",
    "            }\n",
    "        }\n",
    "    }\n",
    "},solc_version=\"0.8.0\")"
   ]
  },
  {
   "cell_type": "code",
   "execution_count": 74,
   "id": "8301f66b",
   "metadata": {},
   "outputs": [
    {
     "name": "stdout",
     "output_type": "stream",
     "text": [
      "abi rút gọn: [{'inputs': [{'internalType': 'string', 'name': '_message', 'type': 'string'}], 'stateMutability': 'nonpayable', 'type': 'constructor'}]\n",
      "\n",
      " bytecode rút gọn: 6080604052 ...\n"
     ]
    }
   ],
   "source": [
    "# 3.3 \n",
    "abi=compiled_sol[\"contracts\"]['Message.sol']['MessageContract']['abi']\n",
    "bytecode=compiled_sol['contracts']['Message.sol']['MessageContract']['evm']['bytecode']['object']\n",
    "print(\"abi rút gọn:\",abi[:1])\n",
    "print(\"\\n bytecode rút gọn:\",bytecode[:10],\"...\")"
   ]
  },
  {
   "cell_type": "code",
   "execution_count": 75,
   "id": "913e51e7",
   "metadata": {},
   "outputs": [
    {
     "name": "stdout",
     "output_type": "stream",
     "text": [
      "Kết nối thành công: True\n",
      "Tài khoản mặc định: ['0x03568dB3389c611073357F00c281209d5f302B0c']\n"
     ]
    }
   ],
   "source": [
    "from web3 import Web3  # đảm bảo bạn đã import đúng\n",
    "\n",
    "# Kết nối tới Ganache\n",
    "w3 = Web3(Web3.HTTPProvider(\"http://127.0.0.1:7545\"))\n",
    "\n",
    "# Kiểm tra kết nối\n",
    "print(\"Kết nối thành công:\", w3.is_connected())\n",
    "\n",
    "# Lấy danh sách tài khoản\n",
    "accounts = w3.eth.accounts\n",
    "w3.eth.default_account = accounts[0]\n",
    "print(\"Tài khoản mặc định:\", accounts[:1])\n"
   ]
  },
  {
   "cell_type": "code",
   "execution_count": 76,
   "id": "610234ae",
   "metadata": {},
   "outputs": [
    {
     "name": "stdout",
     "output_type": "stream",
     "text": [
      "Hợp đồng đã triển khai tại địa chỉ: 0xD754501829EA521920cEaFF40961d4BaD02cF7A0\n"
     ]
    }
   ],
   "source": [
    "# Tạo đối tượng contract từ ABI và Bytecode\n",
    "MessageContract = w3.eth.contract(abi=abi, bytecode=bytecode)\n",
    "\n",
    "# Gửi giao dịch triển khai contract, truyền constructor message\n",
    "tx_hash = MessageContract.constructor(\"Chào Quý khách!\").transact()\n",
    "\n",
    "# Chờ nhận kết quả giao dịch để lấy địa chỉ contract\n",
    "tx_receipt = w3.eth.wait_for_transaction_receipt(tx_hash)\n",
    "\n",
    "# Lấy địa chỉ contract vừa triển khai\n",
    "contract_address = tx_receipt['contractAddress']\n",
    "print(\"Hợp đồng đã triển khai tại địa chỉ:\", contract_address)\n",
    "\n"
   ]
  },
  {
   "cell_type": "code",
   "execution_count": 77,
   "id": "79f2133d",
   "metadata": {},
   "outputs": [
    {
     "name": "stdout",
     "output_type": "stream",
     "text": [
      "Contract Address: 0xD754501829EA521920cEaFF40961d4BaD02cF7A0\n"
     ]
    }
   ],
   "source": [
    "print(\"Contract Address:\",contract_address)"
   ]
  },
  {
   "cell_type": "code",
   "execution_count": 79,
   "id": "6d7daa61",
   "metadata": {},
   "outputs": [
    {
     "name": "stdout",
     "output_type": "stream",
     "text": [
      "Nội dung hiện tại: \n",
      "Nội dung sau cập nhật: Xin chào Blockchain!\n"
     ]
    }
   ],
   "source": [
    "# Bước 5: Tương tác với smart contract\n",
    "# Tạo instance của contract tại địa chỉ đã triển khai\n",
    "message_contract_instance = w3.eth.contract(\n",
    "    address=contract_address,\n",
    "    abi=abi\n",
    ")\n",
    "# Đọc message hiện tại\n",
    "current_message = message_contract_instance.functions.message().call()\n",
    "print(\"Nội dung hiện tại:\", current_message)\n",
    "\n",
    "# Gửi giao dịch để cập nhật nội dung\n",
    "tx_hash = message_contract_instance.functions.updateMessage(\"Xin chào Blockchain!\").transact()\n",
    "tx_receipt = w3.eth.wait_for_transaction_receipt(tx_hash)\n",
    "\n",
    "# Đọc lại message sau cập nhật\n",
    "updated_message = message_contract_instance.functions.message().call()\n",
    "print(\"Nội dung sau cập nhật:\", updated_message)\n"
   ]
  }
 ],
 "metadata": {
  "kernelspec": {
   "display_name": "base",
   "language": "python",
   "name": "python3"
  },
  "language_info": {
   "codemirror_mode": {
    "name": "ipython",
    "version": 3
   },
   "file_extension": ".py",
   "mimetype": "text/x-python",
   "name": "python",
   "nbconvert_exporter": "python",
   "pygments_lexer": "ipython3",
   "version": "3.12.3"
  }
 },
 "nbformat": 4,
 "nbformat_minor": 5
}
