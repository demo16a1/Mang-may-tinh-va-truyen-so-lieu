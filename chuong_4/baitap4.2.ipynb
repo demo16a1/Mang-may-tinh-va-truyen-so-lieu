{
 "cells": [
  {
   "cell_type": "markdown",
   "id": "afaeefe3",
   "metadata": {},
   "source": [
    " Bài 2. Viết chương trình Python nhập một chuỗi bất kỳ (ví dụ: \"Học phần Mạng máy tính\") và tính mã băm (hash) bằng SHA-256. Sau đó, thay đổi một ký tự và quan sát sự thay đổi mã băm (hash).\n",
    " Gợi ý:\n",
    " - Dùng thư viện hashlib.\n",
    " - Trình bày nhận xét: chỉ một thay đổi nhỏ → mã băm (hash) thay đổi toàn bộ"
   ]
  },
  {
   "cell_type": "code",
   "execution_count": 7,
   "id": "73e4795c",
   "metadata": {},
   "outputs": [
    {
     "name": "stdout",
     "output_type": "stream",
     "text": [
      "\n",
      "--- Kết quả ban đầu ---\n",
      "Chuỗi gốc     : Học phần Mạng máy tính và truyền số liệu\n",
      "SHA-256 Hash  : 955f6f5e80d16d669dae493c72a6dbcbe7330e0852b1118ce3105cbffef17237\n",
      "\n",
      "--- Sau khi thay đổi một ký tự ---\n",
      "Chuỗi mới     : học phần Mạng máy tính và truyền số liệu\n",
      "SHA-256 Hash  : a79903a761415c31fc11c205e8e5f0ca4517229076cc11e9df3d33fcc9f0423d\n",
      "\n",
      "--- Nhận xét ---\n",
      "Mặc dù chỉ thay đổi một ký tự nhỏ, toàn bộ mã băm SHA-256 đã thay đổi hoàn toàn.\n",
      "Điều này thể hiện tính nhạy cảm cao của hàm băm (tính chất avalanche effect).\n"
     ]
    }
   ],
   "source": [
    "import hashlib\n",
    "\n",
    "def compute_sha256(text):\n",
    "    return hashlib.sha256(text.encode()).hexdigest()\n",
    "\n",
    "# Nhập chuỗi ban đầu\n",
    "original_text = \"Học phần Mạng máy tính và truyền số liệu\"\n",
    "original_hash = compute_sha256(original_text)\n",
    "\n",
    "# In ra mã băm ban đầu\n",
    "print(\"\\n--- Kết quả ban đầu ---\")\n",
    "print(f\"Chuỗi gốc     : {original_text}\")\n",
    "print(f\"SHA-256 Hash  : {original_hash}\")\n",
    "\n",
    "# Thay đổi một ký tự trong chuỗi\n",
    "# Ví dụ: thay ký tự đầu tiên (nếu có) thành ký tự khác\n",
    "if len(original_text) > 0:\n",
    "    modified_text = \"h\" + original_text[1:]  # Giả sử thay ký tự đầu tiên bằng 'X'\n",
    "else:\n",
    "    modified_text = original_text  # Nếu chuỗi rỗng thì giữ nguyên\n",
    "\n",
    "modified_hash = compute_sha256(modified_text)\n",
    "\n",
    "# In ra mã băm sau khi thay đổi\n",
    "print(\"\\n--- Sau khi thay đổi một ký tự ---\")\n",
    "print(f\"Chuỗi mới     : {modified_text}\")\n",
    "print(f\"SHA-256 Hash  : {modified_hash}\")\n",
    "\n",
    "# So sánh và nhận xét\n",
    "print(\"\\n--- Nhận xét ---\")\n",
    "if original_hash != modified_hash:\n",
    "    print(\"Mặc dù chỉ thay đổi một ký tự nhỏ, toàn bộ mã băm SHA-256 đã thay đổi hoàn toàn.\")\n",
    "    print(\"Điều này thể hiện tính nhạy cảm cao của hàm băm (tính chất avalanche effect).\")\n",
    "else:\n",
    "    print(\"Mã băm không thay đổi (trường hợp đặc biệt, rất hiếm gặp).\")\n"
   ]
  }
 ],
 "metadata": {
  "kernelspec": {
   "display_name": "base",
   "language": "python",
   "name": "python3"
  },
  "language_info": {
   "codemirror_mode": {
    "name": "ipython",
    "version": 3
   },
   "file_extension": ".py",
   "mimetype": "text/x-python",
   "name": "python",
   "nbconvert_exporter": "python",
   "pygments_lexer": "ipython3",
   "version": "3.12.3"
  }
 },
 "nbformat": 4,
 "nbformat_minor": 5
}
