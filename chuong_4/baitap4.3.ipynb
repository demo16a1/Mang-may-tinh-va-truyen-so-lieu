{
 "cells": [
  {
   "cell_type": "markdown",
   "id": "e3ed0ff9",
   "metadata": {},
   "source": [
    " Bài 3. Viết và triển khai Smart Contract đơn giản bằng Python\n",
    " Mục tiêu: Làm quen với Smart Contract và công cụ Web3.py trong phạm vi đơn giản nhất.\n",
    " Yêu cầu:\n",
    " - Dùng mã Solidity đã trình bày trong chương 4 để viết một hợp đồng lưu thông điệp.\n",
    " - Biên dịch hợp đồng bằng solcx.\n",
    " - Dùng Web3.py kết nối Ganache và triển khai hợp đồng.\n",
    " - Gửi thông điệp mới và đọc lại thông điệp đã lưu"
   ]
  },
  {
   "cell_type": "code",
   "execution_count": null,
   "id": "d2dae564",
   "metadata": {},
   "outputs": [
    {
     "name": "stdout",
     "output_type": "stream",
     "text": [
      "Kết nối thành công: True\n",
      "Tài khoản mặc định: 0x9104eF7d014e597849BA3a759963E90b3296d840\n",
      "Hợp đồng đã triển khai tại địa chỉ: 0xbaA8E27295B9A605be370Ea4D524A8d7C5488c32\n",
      "Nội dung sau cập nhật: Xin chào Blockchain!\n"
     ]
    }
   ],
   "source": [
    "from solcx import compile_source, install_solc\n",
    "from web3 import Web3\n",
    "\n",
    "# Cài đặt compiler Solidity\n",
    "install_solc(\"0.8.0\")\n",
    "\n",
    "# Kết nối Ganache\n",
    "w3 = Web3(Web3.HTTPProvider(\"http://127.0.0.1:7545\"))\n",
    "# Kiểm tra kết nối\n",
    "print(\"Kết nối thành công:\", w3.is_connected())\n",
    "\n",
    "# Thiết lập tài khoản và private key (ví dụ chỉ dùng phát triển)\n",
    "w3.eth.default_account = w3.eth.accounts[0]\n",
    "print(\"Tài khoản mặc định:\", w3.eth.default_account)\n",
    "\n",
    "# Solidity source code\n",
    "contract_source = '''\n",
    "pragma solidity ^0.8.0;\n",
    "\n",
    "contract MessageStorage {\n",
    "    string public message;\n",
    "\n",
    "    function setMessage(string memory _message) public {\n",
    "        message = _message;\n",
    "    }\n",
    "\n",
    "    function getMessage() public view returns (string memory) {\n",
    "        return message;\n",
    "    }\n",
    "}\n",
    "'''\n",
    "\n",
    "# Biên dịch hợp đồng\n",
    "compiled_sol = compile_source(contract_source, solc_version=\"0.8.0\")\n",
    "contract_id, contract_interface = compiled_sol.popitem()\n",
    "\n",
    "# Lấy ABI và Bytecode\n",
    "abi = contract_interface['abi']\n",
    "bytecode = contract_interface['bin']\n",
    "\n",
    "# Triển khai hợp đồng\n",
    "MessageStorage = w3.eth.contract(abi=abi, bytecode=bytecode)\n",
    "tx_hash = MessageStorage.constructor().transact()\n",
    "tx_receipt = w3.eth.wait_for_transaction_receipt(tx_hash)\n",
    "print(\"Hợp đồng đã triển khai tại địa chỉ:\", tx_receipt.contractAddress)\n",
    "\n",
    "# Lấy địa chỉ hợp đồng\n",
    "contract_address = tx_receipt.contractAddress\n",
    "contract_instance = w3.eth.contract(address=contract_address, abi=abi)\n",
    "\n",
    "# Gửi thông điệp mới\n",
    "tx = contract_instance.functions.setMessage(\"Xin chào Blockchain!\").transact()\n",
    "w3.eth.wait_for_transaction_receipt(tx)\n",
    "\n",
    "# Đọc lại thông điệp đã lưu\n",
    "stored_message = contract_instance.functions.getMessage().call()\n",
    "print(\"Nội dung sau cập nhật:\", stored_message)\n"
   ]
  }
 ],
 "metadata": {
  "kernelspec": {
   "display_name": "base",
   "language": "python",
   "name": "python3"
  },
  "language_info": {
   "codemirror_mode": {
    "name": "ipython",
    "version": 3
   },
   "file_extension": ".py",
   "mimetype": "text/x-python",
   "name": "python",
   "nbconvert_exporter": "python",
   "pygments_lexer": "ipython3",
   "version": "3.12.3"
  }
 },
 "nbformat": 4,
 "nbformat_minor": 5
}
