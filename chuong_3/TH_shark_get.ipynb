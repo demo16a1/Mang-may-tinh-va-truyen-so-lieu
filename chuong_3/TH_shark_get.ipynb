{
 "cells": [
  {
   "cell_type": "code",
   "execution_count": null,
   "metadata": {},
   "outputs": [],
   "source": [
    "import nest_asyncio\n",
    "nest_asyncio.apply()"
   ]
  },
  {
   "cell_type": "code",
   "execution_count": 37,
   "metadata": {},
   "outputs": [
    {
     "name": "stdout",
     "output_type": "stream",
     "text": [
      "Phân tích gói http request chứa từ khóa 'login' hoặc 'test'\n",
      "\n",
      "==================================================\n",
      "Gói # 2 có chưa từ khóa\n",
      "Thời gian: 2025-04-02 07:27:34.042549\n",
      "IP nguồn:  192.168.88.138\n",
      "IP đích:  44.228.249.3\n",
      "Phương thức : POST\n",
      "URL: http://testphp.vulnweb.com/userinfo.php\n",
      "Cookie: login=test%2Ftest\n",
      "Payload 75:72:6e:61:6d:65:3d:61:73:61:64:73:61:26:75:63:63:3d:66:73:57:65:62:53:63:61:6e:26:75:65:6d:61:69:6c:3d:74:65:73:74:25:32:35:34:30:74:65:73:74:2e:63:6f:6d:26:75:70:68:6f:6e:65:3d:32:33:32:33:33:34:35:26:75:61:64:64:72:65:73:73:3d:25:32:46:66:6f:6f:25:32:46:2e:2e:25:32:46:25:32:34:76:61:6c:75:65:26:75:70:64:61:74:65:3d:75:70:64:61:74:65\n",
      "==================================================\n",
      "Gói # 9 có chưa từ khóa\n",
      "Thời gian: 2025-04-02 07:49:46.202467\n",
      "IP nguồn:  192.168.88.138\n",
      "IP đích:  44.228.249.3\n",
      "Phương thức : GET\n",
      "URL: http://testphp.vulnweb.com/login.php\n",
      "==================================================\n",
      "Gói # 10 có chưa từ khóa\n",
      "Thời gian: 2025-04-02 07:49:46.437756\n",
      "IP nguồn:  192.168.88.138\n",
      "IP đích:  44.228.249.3\n",
      "Phương thức : GET\n",
      "URL: http://testphp.vulnweb.com/style.css\n",
      "==================================================\n",
      "Gói # 11 có chưa từ khóa\n",
      "Thời gian: 2025-04-02 07:49:46.438609\n",
      "IP nguồn:  192.168.88.138\n",
      "IP đích:  44.228.249.3\n",
      "Phương thức : GET\n",
      "URL: http://testphp.vulnweb.com/images/logo.gif\n",
      "==================================================\n",
      "Gói # 12 có chưa từ khóa\n",
      "Thời gian: 2025-04-02 07:49:46.722954\n",
      "IP nguồn:  192.168.88.138\n",
      "IP đích:  44.228.249.3\n",
      "Phương thức : GET\n",
      "URL: http://testphp.vulnweb.com/favicon.ico\n",
      "==================================================\n",
      "Gói # 13 có chưa từ khóa\n",
      "Thời gian: 2025-04-02 07:50:01.066537\n",
      "IP nguồn:  192.168.88.138\n",
      "IP đích:  44.228.249.3\n",
      "Phương thức : POST\n",
      "URL: http://testphp.vulnweb.com/userinfo.php\n",
      "Payload 75:6e:61:6d:65:3d:74:65:73:74:26:70:61:73:73:3d:74:65:73:74\n",
      "==================================================\n",
      "Gói # 14 có chưa từ khóa\n",
      "Thời gian: 2025-04-02 07:50:14.840511\n",
      "IP nguồn:  192.168.88.138\n",
      "IP đích:  44.228.249.3\n",
      "Phương thức : POST\n",
      "URL: http://testphp.vulnweb.com/userinfo.php\n",
      "Payload 75:6e:61:6d:65:3d:74:65:73:74:26:70:61:73:73:3d:74:65:73:74\n"
     ]
    }
   ],
   "source": [
    "import pyshark\n",
    "\n",
    "\n",
    "# đương dẫn\n",
    "path= r\"D:/HK2_NAM3/MMTTSL/chuong_3/data16a18495.pcapng\"\n",
    "\n",
    "# tạo đối tượng đọc file gói tin \n",
    "cap=pyshark.FileCapture(path,display_filter='http.request')\n",
    "\n",
    "print(\"Phân tích gói http request chứa từ khóa 'login' hoặc 'test'\\n\")\n",
    "\n",
    "# duyệt qua từng gói tin trong file\n",
    "for i, pkt in enumerate(cap):\n",
    "    try:\n",
    "        # chuyển toàn bộ nội dung http sang dạng chữ thường để tìm kiếm dễ hơn\n",
    "        http_info=str(pkt.http).lower()\n",
    "\n",
    "        # nếu trong nội dung chứa \"login\" hoặc\"test\"\n",
    "        if \"login\" in http_info or \"test\" in http_info:\n",
    "            print('='*50)\n",
    "            print(f\"Gói # {i+1} có chưa từ khóa\")\n",
    "\n",
    "            # hiển thị thời gian bắt đc gói tin\n",
    "            print(\"Thời gian:\",pkt.sniff_time)\n",
    "\n",
    "            # hiển thị Ip nguồn và IP đích (máy chủ)\n",
    "            print(\"IP nguồn: \",pkt.ip.src if hasattr(pkt,'ip')else \"N/A\")\n",
    "            print(\"IP đích: \",pkt.ip.dst if hasattr(pkt,'ip')else \"N/A\")\n",
    "\n",
    "            # hiển thị phương thức http :get hoặc post\n",
    "            if hasattr (pkt.http,'request_method'):\n",
    "                print(\"Phương thức :\",pkt.http.request_method)\n",
    "\n",
    "            # hiển thị url đầy đủ nếu có\n",
    "            if hasattr(pkt.http,\"host\")and hasattr(pkt.http,\"request_uri\"):\n",
    "                print(\"URL:\",f\"http://{pkt.http.host}{pkt.http.request_uri}\")\n",
    "\n",
    "            # hiển thị cookie nếu gói có gửi cookie\n",
    "            if hasattr(pkt.http,\"cookie\"):\n",
    "                print(\"Cookie:\",pkt.http.cookie)\n",
    "\n",
    "            # hiển thị dữ liệu gửi đi trong phần thân(post form data)\n",
    "            if hasattr(pkt.http,\"file_data\"):\n",
    "                print(\"Payload\",pkt.http.file_data)\n",
    "\n",
    "    # nếu có lỗi \n",
    "    except Exception as e:\n",
    "        print(f\"[Lỗi tại gói# {i+1}]:{e}\")"
   ]
  },
  {
   "cell_type": "code",
   "execution_count": 36,
   "metadata": {},
   "outputs": [
    {
     "ename": "ModuleNotFoundError",
     "evalue": "No module named 'scapy.modules.six.moves'",
     "output_type": "error",
     "traceback": [
      "\u001b[1;31m---------------------------------------------------------------------------\u001b[0m",
      "\u001b[1;31mModuleNotFoundError\u001b[0m                       Traceback (most recent call last)",
      "Cell \u001b[1;32mIn[36], line 1\u001b[0m\n\u001b[1;32m----> 1\u001b[0m \u001b[38;5;28;01mfrom\u001b[39;00m \u001b[38;5;21;01mscapy\u001b[39;00m\u001b[38;5;21;01m.\u001b[39;00m\u001b[38;5;21;01mall\u001b[39;00m \u001b[38;5;28;01mimport\u001b[39;00m get_if_list\n\u001b[0;32m      3\u001b[0m inerfaces\u001b[38;5;241m=\u001b[39mget_if_list()\n\u001b[0;32m      4\u001b[0m \u001b[38;5;28mprint\u001b[39m(\u001b[38;5;124m\"\u001b[39m\u001b[38;5;124mDanh sách các giao diện mạng:\u001b[39m\u001b[38;5;124m\"\u001b[39m)\n",
      "File \u001b[1;32mc:\\Users\\ADMIN\\anaconda3\\Lib\\site-packages\\scapy\\all.py:16\u001b[0m\n\u001b[0;32m     14\u001b[0m \u001b[38;5;28;01mfrom\u001b[39;00m \u001b[38;5;21;01mscapy\u001b[39;00m\u001b[38;5;21;01m.\u001b[39;00m\u001b[38;5;21;01merror\u001b[39;00m \u001b[38;5;28;01mimport\u001b[39;00m \u001b[38;5;241m*\u001b[39m\n\u001b[0;32m     15\u001b[0m \u001b[38;5;28;01mfrom\u001b[39;00m \u001b[38;5;21;01mscapy\u001b[39;00m\u001b[38;5;21;01m.\u001b[39;00m\u001b[38;5;21;01mthemes\u001b[39;00m \u001b[38;5;28;01mimport\u001b[39;00m \u001b[38;5;241m*\u001b[39m\n\u001b[1;32m---> 16\u001b[0m \u001b[38;5;28;01mfrom\u001b[39;00m \u001b[38;5;21;01mscapy\u001b[39;00m\u001b[38;5;21;01m.\u001b[39;00m\u001b[38;5;21;01march\u001b[39;00m \u001b[38;5;28;01mimport\u001b[39;00m \u001b[38;5;241m*\u001b[39m\n\u001b[0;32m     17\u001b[0m \u001b[38;5;28;01mfrom\u001b[39;00m \u001b[38;5;21;01mscapy\u001b[39;00m\u001b[38;5;21;01m.\u001b[39;00m\u001b[38;5;21;01minterfaces\u001b[39;00m \u001b[38;5;28;01mimport\u001b[39;00m \u001b[38;5;241m*\u001b[39m\n\u001b[0;32m     19\u001b[0m \u001b[38;5;28;01mfrom\u001b[39;00m \u001b[38;5;21;01mscapy\u001b[39;00m\u001b[38;5;21;01m.\u001b[39;00m\u001b[38;5;21;01mplist\u001b[39;00m \u001b[38;5;28;01mimport\u001b[39;00m \u001b[38;5;241m*\u001b[39m\n",
      "File \u001b[1;32mc:\\Users\\ADMIN\\anaconda3\\Lib\\site-packages\\scapy\\arch\\__init__.py:18\u001b[0m\n\u001b[0;32m     16\u001b[0m \u001b[38;5;28;01mfrom\u001b[39;00m \u001b[38;5;21;01mscapy\u001b[39;00m\u001b[38;5;21;01m.\u001b[39;00m\u001b[38;5;21;01mdata\u001b[39;00m \u001b[38;5;28;01mimport\u001b[39;00m ARPHDR_ETHER, ARPHDR_LOOPBACK, IPV6_ADDR_GLOBAL\n\u001b[0;32m     17\u001b[0m \u001b[38;5;28;01mfrom\u001b[39;00m \u001b[38;5;21;01mscapy\u001b[39;00m\u001b[38;5;21;01m.\u001b[39;00m\u001b[38;5;21;01merror\u001b[39;00m \u001b[38;5;28;01mimport\u001b[39;00m Scapy_Exception\n\u001b[1;32m---> 18\u001b[0m \u001b[38;5;28;01mfrom\u001b[39;00m \u001b[38;5;21;01mscapy\u001b[39;00m\u001b[38;5;21;01m.\u001b[39;00m\u001b[38;5;21;01minterfaces\u001b[39;00m \u001b[38;5;28;01mimport\u001b[39;00m NetworkInterface\n\u001b[0;32m     19\u001b[0m \u001b[38;5;28;01mfrom\u001b[39;00m \u001b[38;5;21;01mscapy\u001b[39;00m\u001b[38;5;21;01m.\u001b[39;00m\u001b[38;5;21;01mpton_ntop\u001b[39;00m \u001b[38;5;28;01mimport\u001b[39;00m inet_pton, inet_ntop\n\u001b[0;32m     21\u001b[0m \u001b[38;5;66;03m# Typing imports\u001b[39;00m\n",
      "File \u001b[1;32mc:\\Users\\ADMIN\\anaconda3\\Lib\\site-packages\\scapy\\interfaces.py:17\u001b[0m\n\u001b[0;32m     15\u001b[0m \u001b[38;5;28;01mfrom\u001b[39;00m \u001b[38;5;21;01mscapy\u001b[39;00m\u001b[38;5;21;01m.\u001b[39;00m\u001b[38;5;21;01mconfig\u001b[39;00m \u001b[38;5;28;01mimport\u001b[39;00m conf\n\u001b[0;32m     16\u001b[0m \u001b[38;5;28;01mfrom\u001b[39;00m \u001b[38;5;21;01mscapy\u001b[39;00m\u001b[38;5;21;01m.\u001b[39;00m\u001b[38;5;21;01mconsts\u001b[39;00m \u001b[38;5;28;01mimport\u001b[39;00m WINDOWS\n\u001b[1;32m---> 17\u001b[0m \u001b[38;5;28;01mfrom\u001b[39;00m \u001b[38;5;21;01mscapy\u001b[39;00m\u001b[38;5;21;01m.\u001b[39;00m\u001b[38;5;21;01mutils\u001b[39;00m \u001b[38;5;28;01mimport\u001b[39;00m pretty_list\n\u001b[0;32m     18\u001b[0m \u001b[38;5;28;01mfrom\u001b[39;00m \u001b[38;5;21;01mscapy\u001b[39;00m\u001b[38;5;21;01m.\u001b[39;00m\u001b[38;5;21;01mutils6\u001b[39;00m \u001b[38;5;28;01mimport\u001b[39;00m in6_isvalid\n\u001b[0;32m     20\u001b[0m \u001b[38;5;28;01mfrom\u001b[39;00m \u001b[38;5;21;01mscapy\u001b[39;00m\u001b[38;5;21;01m.\u001b[39;00m\u001b[38;5;21;01mmodules\u001b[39;00m\u001b[38;5;21;01m.\u001b[39;00m\u001b[38;5;21;01msix\u001b[39;00m\u001b[38;5;21;01m.\u001b[39;00m\u001b[38;5;21;01mmoves\u001b[39;00m \u001b[38;5;28;01mimport\u001b[39;00m UserDict\n",
      "File \u001b[1;32mc:\\Users\\ADMIN\\anaconda3\\Lib\\site-packages\\scapy\\utils.py:33\u001b[0m\n\u001b[0;32m     30\u001b[0m \u001b[38;5;28;01mimport\u001b[39;00m \u001b[38;5;21;01mwarnings\u001b[39;00m\n\u001b[0;32m     32\u001b[0m \u001b[38;5;28;01mimport\u001b[39;00m \u001b[38;5;21;01mscapy\u001b[39;00m\u001b[38;5;21;01m.\u001b[39;00m\u001b[38;5;21;01mmodules\u001b[39;00m\u001b[38;5;21;01m.\u001b[39;00m\u001b[38;5;21;01msix\u001b[39;00m \u001b[38;5;28;01mas\u001b[39;00m \u001b[38;5;21;01msix\u001b[39;00m\n\u001b[1;32m---> 33\u001b[0m \u001b[38;5;28;01mfrom\u001b[39;00m \u001b[38;5;21;01mscapy\u001b[39;00m\u001b[38;5;21;01m.\u001b[39;00m\u001b[38;5;21;01mmodules\u001b[39;00m\u001b[38;5;21;01m.\u001b[39;00m\u001b[38;5;21;01msix\u001b[39;00m\u001b[38;5;21;01m.\u001b[39;00m\u001b[38;5;21;01mmoves\u001b[39;00m \u001b[38;5;28;01mimport\u001b[39;00m \u001b[38;5;28mrange\u001b[39m, \u001b[38;5;28minput\u001b[39m, zip_longest\n\u001b[0;32m     35\u001b[0m \u001b[38;5;28;01mfrom\u001b[39;00m \u001b[38;5;21;01mscapy\u001b[39;00m\u001b[38;5;21;01m.\u001b[39;00m\u001b[38;5;21;01mconfig\u001b[39;00m \u001b[38;5;28;01mimport\u001b[39;00m conf\n\u001b[0;32m     36\u001b[0m \u001b[38;5;28;01mfrom\u001b[39;00m \u001b[38;5;21;01mscapy\u001b[39;00m\u001b[38;5;21;01m.\u001b[39;00m\u001b[38;5;21;01mconsts\u001b[39;00m \u001b[38;5;28;01mimport\u001b[39;00m DARWIN, OPENBSD, WINDOWS\n",
      "\u001b[1;31mModuleNotFoundError\u001b[0m: No module named 'scapy.modules.six.moves'"
     ]
    }
   ],
   "source": [
    "from scapy.all import get_if_list\n",
    "\n",
    "inerfaces=get_if_list()\n",
    "print(\"Danh sách các giao diện mạng:\")\n",
    "for iface in inerfaces:\n",
    "    print(f\"- {iface}\")"
   ]
  },
  {
   "cell_type": "code",
   "execution_count": null,
   "metadata": {},
   "outputs": [],
   "source": [
    "from scapy.all import get_if_list ,get_if_addr\n",
    "\n",
    "inerfaces=get_if_list()\n",
    "print(\"Danh sách các giao diện mạng:\")\n",
    "for iface in inerfaces:\n",
    "    try:\n",
    "        print(f\"- {iface}:{get_if_addr(iface)}\")\n",
    "    except:\n",
    "        print(f\"{iface}: không có địa chỉ IP\")"
   ]
  },
  {
   "cell_type": "code",
   "execution_count": null,
   "metadata": {},
   "outputs": [],
   "source": [
    "from scapy.all import get_if_list, get_if_hwaddr  \n",
    "iface = r\"\\Device\\NPF_{A8832DF9-879C-4182-AEAB-F7B6BE381FC6}\"\n",
    "mac_address = get_if_hwaddr(iface)  \n",
    "print(f\"Địa chỉ MAC của giao diện {iface}: {mac_address}\")\n"
   ]
  },
  {
   "cell_type": "code",
   "execution_count": null,
   "metadata": {},
   "outputs": [],
   "source": [
    "from scapy.all import sniff\n",
    "sniff(filter=\"tcp port 443\",count=5 ,prn=lambda x:x.summary() )"
   ]
  },
  {
   "cell_type": "code",
   "execution_count": null,
   "metadata": {},
   "outputs": [],
   "source": [
    "sniff(iface=None,timeout=10,prn=lambda x:x.summary())"
   ]
  },
  {
   "cell_type": "code",
   "execution_count": null,
   "metadata": {},
   "outputs": [],
   "source": [
    "# hàm xử ý khi nhận gói tin\n",
    "def print_packet(packet):\n",
    "    print(packet.summary())\n",
    "\n",
    "# bắt 5 gói tin bất kỳ\n",
    "sniff(prn=print_packet,count=5)"
   ]
  },
  {
   "cell_type": "code",
   "execution_count": null,
   "metadata": {},
   "outputs": [],
   "source": [
    "# 3.12\n",
    "from scapy.all import sniff\n",
    "# bắt 1 gói tin IP\n",
    "packets=sniff(filter=\"ip\",count=1)\n",
    "packet=packets[0]\n",
    "\n",
    "print(\"Thông tin về header IP:\")\n",
    "print(f\"Version :{packet['IP'].version}\")"
   ]
  }
 ],
 "metadata": {
  "kernelspec": {
   "display_name": "base",
   "language": "python",
   "name": "python3"
  },
  "language_info": {
   "codemirror_mode": {
    "name": "ipython",
    "version": 3
   },
   "file_extension": ".py",
   "mimetype": "text/x-python",
   "name": "python",
   "nbconvert_exporter": "python",
   "pygments_lexer": "ipython3",
   "version": "3.12.7"
  }
 },
 "nbformat": 4,
 "nbformat_minor": 2
}
