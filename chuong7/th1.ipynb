{
 "cells": [
  {
   "cell_type": "code",
   "execution_count": 2,
   "id": "5e34497d",
   "metadata": {},
   "outputs": [
    {
     "name": "stdout",
     "output_type": "stream",
     "text": [
      "Requirement already satisfied: pycryptodome in c:\\users\\admin\\anaconda3\\lib\\site-packages (3.22.0)\n"
     ]
    }
   ],
   "source": [
    "! pip install pycryptodome"
   ]
  },
  {
   "cell_type": "markdown",
   "id": "bd64119e",
   "metadata": {},
   "source": [
    "# bước 1 mã hóa đối xứng AES"
   ]
  },
  {
   "cell_type": "code",
   "execution_count": null,
   "id": "5cdb9677",
   "metadata": {},
   "outputs": [
    {
     "name": "stdout",
     "output_type": "stream",
     "text": [
      "Văn bản mã hóa (AES): b'Wq\\x83y9B\\x15\\x06X\\xbb\\xe1W\\x87\\x1fF\\xc5\\xcfb\\xab}ZLE2:\\xcdL\\xd0\\xcc\\x87\\x06\\xd6\\xcd\\xb4\\x87\\xe7#\\x90\\xc8\\x92*\\xad\\xf8\\xd3\\xafm\\xb7_\\xfc\\xa6}yU\\x06C\\x9bV\\xedj\\xcb\\x8a.\\xe0\\xf8'\n",
      "Thời gian mã hóa AES: 0.0 giây\n",
      "Văn bản giải mã (AES): Hello , this is a test message for AES encryption\n",
      "Thời gian giải mã AES: 0.0 giây\n"
     ]
    }
   ],
   "source": [
    "from Crypto.Cipher import AES\n",
    "from Crypto.Random import get_random_bytes\n",
    "from Crypto.Util.Padding import pad, unpad\n",
    "import time\n",
    "\n",
    "# tạo khóa mã hóa 128 bit và khởi tạo AES\n",
    "key = get_random_bytes(16)  # 128 bit\n",
    "cipher = AES.new(key, AES.MODE_CBC)\n",
    "\n",
    "plaintext = b'Hello , this is a test message for AES encryption' # b kí tự dữ liệu nhị phân\n",
    "\n",
    "# đo lường thời gian mã hóa AES\n",
    "start_time = time.time()    # bắt đầu thời gian\n",
    "ciphertext = cipher.encrypt(pad(plaintext, AES.block_size))     #\n",
    "end_time = time.time()\n",
    "aes_encryption_time = end_time - start_time \n",
    " \n",
    "print(\"Văn bản mã hóa (AES):\", ciphertext) \n",
    "print(\"Thời gian mã hóa AES:\", aes_encryption_time, \"giây\") \n",
    " \n",
    "# Giải mã và đo thời gian giải mã AES\n",
    "start_time = time.time() \n",
    "decipher = AES.new(key, AES.MODE_CBC, cipher.iv) \n",
    "decrypted_text = unpad(decipher.decrypt(ciphertext), AES.block_size) \n",
    "end_time = time.time() \n",
    "aes_decryption_time = end_time - start_time \n",
    " \n",
    "print(\"Văn bản giải mã (AES):\", decrypted_text.decode()) \n",
    "print(\"Thời gian giải mã AES:\", aes_decryption_time, \"giây\") "
   ]
  },
  {
   "cell_type": "markdown",
   "id": "acde516d",
   "metadata": {},
   "source": [
    "# bước 2 mã hóa bằng rsa"
   ]
  },
  {
   "cell_type": "code",
   "execution_count": 4,
   "id": "b30b3067",
   "metadata": {},
   "outputs": [
    {
     "name": "stdout",
     "output_type": "stream",
     "text": [
      "Khóa AES sau khi mã hóa bằng RSA: b'@/)\\xcf\\x1c\\xf7\\x9f\\x7f\\xbf2_\\x12\\xdb\\xea\\xc2iF\\xd8$x\\xd2\\xe5D\\x10\\xca\\x19\\r\\x91\\n\\xad\\xa1\\x0b=\\xdbbsK\\xe5\\x0fr\\n:$r\\xacH:\\xc3\\xc6\\x94$\\xeao_\\xde\\x95\\x8d\\x12\\x04\\x88<\\x9c\\x15\\x91\\x03\\xe4\\xe7Q99bv%\\xf8]\\xf2\\xb7\\xd8\\x9d\\x94\\x7f\\x1f\\x92k8\\x90:\\x82\"\\x1a\\xa4\\xa6\\xed\\xb1\\xbfd(z~\\x0c|\\x06h\\x8bA\\x06{\\x0ef~\\xa0B1ep\\xec\\x1a\\xf0\\xa3\\xf3%o\\x08Bs\\xaaJ\\x8b\\xccR\\xda\\x82\\x83\\xd9\\xadS(\\xf1\\xca\\xf9W\\x11\\xf4\\xeb\\x0c9\\xfd\\xd5R\\xbf8~\\x850\\xe3\\x8ctc\\xaan\\xa4U\\xf8W7X\\x1c)r8\\x0f\\x96\\xe1\\x81\\x99Q;\\xc6S\\x0eLe\\xf3\\x0b\\x87\\xa3\\xcc\\x1f\\xc9\\x0e\\xc9\\xd6\\x1a\\x1f\\xa5S\\xd5k\\xc4\\xdc/+\\x85\\xfag\\xcb\\xa58\\xc0\\x0b\\xfbP\\xfa\\xb7\\xdfq\\xf0\\x0b\\xf2\\x9c\\x0f\\x14\\xa1H>\\x15OV8\\xdd\\xcc28\\xd4\\x01\\x01\\xa4%\\xdd\\xd2\\x9c\\x93&\\xac\\x90\\xdb~\\xcb\\xda\\x99B1.\\xc5I\\xcb'\n",
      "Thời gian mã hóa RSA: 0.0 giây\n",
      "Khóa AES sau khi giải mã: b'\\x83&Q\\xd2s\\xdd\\xd6+\\x02\\xc0yf\\xd9T\\xf6\\xab'\n",
      "Thời gian giải mã RSA: 0.0 giây\n"
     ]
    }
   ],
   "source": [
    "from Crypto.PublicKey import RSA \n",
    "from Crypto.Cipher import PKCS1_OAEP \n",
    " \n",
    "# Tạo cặp khóa RSA \n",
    "key = RSA.generate(2048) \n",
    "private_key = key.export_key() \n",
    "public_key = key.publickey().export_key() \n",
    " \n",
    "# Mã hóa khóa AES bằng khóa công khai RSA và đo thời gian \n",
    "aes_key = get_random_bytes(16) \n",
    "cipher_rsa = PKCS1_OAEP.new(RSA.import_key(public_key)) \n",
    " \n",
    "start_time = time.time()\n",
    "encrypted_aes_key = cipher_rsa.encrypt(aes_key) \n",
    "end_time = time.time() \n",
    "rsa_encryption_time = end_time - start_time \n",
    " \n",
    "print(\"Khóa AES sau khi mã hóa bằng RSA:\", encrypted_aes_key) \n",
    "print(\"Thời gian mã hóa RSA:\", rsa_encryption_time, \"giây\") \n",
    " \n",
    "# Giải mã khóa AES bằng khóa bí mật RSA và đo thời gian \n",
    "decipher_rsa = PKCS1_OAEP.new(RSA.import_key(private_key)) \n",
    " \n",
    "start_time = time.time() \n",
    "decrypted_aes_key = decipher_rsa.decrypt(encrypted_aes_key) \n",
    "end_time = time.time() \n",
    "rsa_decryption_time = end_time - start_time \n",
    " \n",
    "print(\"Khóa AES sau khi giải mã:\", decrypted_aes_key) \n",
    "print(\"Thời gian giải mã RSA:\", rsa_decryption_time, \"giây\")"
   ]
  },
  {
   "cell_type": "markdown",
   "id": "4696ab6b",
   "metadata": {},
   "source": [
    "# Bước 3: So sánh thời gian thực thi giữa AES và RSA"
   ]
  },
  {
   "cell_type": "code",
   "execution_count": 5,
   "id": "3dca50b5",
   "metadata": {},
   "outputs": [
    {
     "name": "stdout",
     "output_type": "stream",
     "text": [
      "Khóa AES sau khi giải mã: b'\\x83&Q\\xd2s\\xdd\\xd6+\\x02\\xc0yf\\xd9T\\xf6\\xab'\n",
      "Thời gian giải mã RSA: 0.0 giây\n"
     ]
    }
   ],
   "source": [
    "from Crypto.PublicKey import RSA \n",
    "from Crypto.Cipher import PKCS1_OAEP \n",
    "# Tạo cặp khóa RSA \n",
    "key = RSA.generate(2048) \n",
    "private_key = key.export_key() \n",
    "public_key = key.publickey().export_key() \n",
    "start_time = time.time() \n",
    "# Mã hóa khóa AES bằng khóa công khai RSA và đo thời gian \n",
    "aes_key = get_random_bytes(16) \n",
    "cipher_rsa = PKCS1_OAEP.new(RSA.import_key(public_key)) \n",
    "print(\"Khóa AES sau khi giải mã:\", decrypted_aes_key) \n",
    "print(\"Thời gian giải mã RSA:\", rsa_decryption_time, \"giây\") "
   ]
  }
 ],
 "metadata": {
  "kernelspec": {
   "display_name": "base",
   "language": "python",
   "name": "python3"
  },
  "language_info": {
   "codemirror_mode": {
    "name": "ipython",
    "version": 3
   },
   "file_extension": ".py",
   "mimetype": "text/x-python",
   "name": "python",
   "nbconvert_exporter": "python",
   "pygments_lexer": "ipython3",
   "version": "3.12.3"
  }
 },
 "nbformat": 4,
 "nbformat_minor": 5
}
